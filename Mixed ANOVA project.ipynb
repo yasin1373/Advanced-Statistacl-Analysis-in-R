{
 "cells": [
  {
   "cell_type": "code",
   "execution_count": null,
   "id": "250cdb03",
   "metadata": {},
   "outputs": [],
   "source": [
    "# Load required packages\n",
    "library(tidyverse)\n",
    "library(lme4)\n",
    "library(biotools)\n",
    "\n",
    "# Import and inspect data\n",
    "bp_data <- read_csv(\"blood_pressure.csv\")\n",
    "str(bp_data) \n",
    "summary(bp_data)\n",
    "\n",
    "# Visualize outcome variable\n",
    "hist(bp_data$bp)\n",
    "\n",
    "# Check assumptions\n",
    "# 1. Normality of residuals - visually assess histogram\n",
    "# 2. Homogeneity of variances - Levene's test\n",
    "leveneTest(bp_data$baseline, bp_data$group)  \n",
    "leveneTest(bp_data$week1, bp_data$group)\n",
    "leveneTest(bp_data$week2, bp_data$group)\n",
    "\n",
    "# 3. Homogeneity of covariances - Box's M test  \n",
    "boxM(bp_data[,2:4], bp_data$group)\n",
    "\n",
    "# Run mixed ANOVA model\n",
    "fit <- lmer(bp ~ time*group + (1|id), data = bp_data)\n",
    "\n",
    "# Interpret ANOVA results\n",
    "anova(fit)\n",
    "\n",
    "# Follow-up tests\n",
    "emmeans(fit, ~ time) # Compare bp between time points\n",
    "emmeans(fit, ~ group) # Compare bp between groups \n",
    "\n",
    "# Visualize interactions\n",
    "interaction.plot(bp_data$time, bp_data$group, bp_data$bp)\n",
    "\n",
    "# Discussion and interpretation"
   ]
  }
 ],
 "metadata": {
  "kernelspec": {
   "display_name": "R",
   "language": "R",
   "name": "ir"
  },
  "language_info": {
   "codemirror_mode": "r",
   "file_extension": ".r",
   "mimetype": "text/x-r-source",
   "name": "R",
   "pygments_lexer": "r",
   "version": "4.3.0"
  },
  "vp": {
   "vp_config_version": "1.0.0",
   "vp_menu_width": 273,
   "vp_note_display": false,
   "vp_note_width": 0,
   "vp_position": {
    "width": 278
   },
   "vp_section_display": false,
   "vp_signature": "VisualPython"
  }
 },
 "nbformat": 4,
 "nbformat_minor": 5
}
